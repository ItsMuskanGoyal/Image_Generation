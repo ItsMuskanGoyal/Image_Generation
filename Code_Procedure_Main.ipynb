{
 "cells": [
  {
   "cell_type": "code",
   "execution_count": null,
   "id": "ba042270",
   "metadata": {},
   "outputs": [],
   "source": [
    "# Instruction to use:\n",
    "\n",
    "# 1. create your Gemini and OpenAI api keys \n",
    "# 2. Install all python modules added in the code\n",
    "# 3. Restart the kernal and run all the cells\n"
   ]
  },
  {
   "cell_type": "code",
   "execution_count": null,
   "id": "449840cb",
   "metadata": {},
   "outputs": [],
   "source": [
    "# Install Libraries\n",
    "\n",
    "# pip install google.generativeai\n",
    "# pip install openai\n",
    "# pip install pyPDF2\n",
    "# pip install langchain\n",
    "# pip install tiktoken\n",
    "# pip install faiss-cpu"
   ]
  },
  {
   "cell_type": "code",
   "execution_count": 1,
   "id": "790fec4d",
   "metadata": {},
   "outputs": [],
   "source": [
    "# Required Libraries\n",
    "\n",
    "import google.generativeai as genai\n",
    "from openai import OpenAI\n",
    "from PyPDF2 import PdfReader\n",
    "from langchain.text_splitter import CharacterTextSplitter\n",
    "from langchain.embeddings.openai import OpenAIEmbeddings\n",
    "from langchain_community.vectorstores import FAISS\n",
    "from langchain.chains.question_answering import load_qa_chain\n",
    "from langchain_community.llms import OpenAI"
   ]
  },
  {
   "cell_type": "code",
   "execution_count": 12,
   "id": "ba7ad26a",
   "metadata": {},
   "outputs": [
    {
     "ename": "SyntaxError",
     "evalue": "invalid syntax (1173776649.py, line 4)",
     "output_type": "error",
     "traceback": [
      "\u001b[1;36m  Cell \u001b[1;32mIn[12], line 4\u001b[1;36m\u001b[0m\n\u001b[1;33m    gemini_key =\u001b[0m\n\u001b[1;37m                ^\u001b[0m\n\u001b[1;31mSyntaxError\u001b[0m\u001b[1;31m:\u001b[0m invalid syntax\n"
     ]
    }
   ],
   "source": [
    "# Required Secret Key\n",
    "\n",
    "# Get your key: https://ai.google.dev/\n",
    "gemini_key =\n",
    "\n",
    "# Get your key: https://platform.openai.com/signup\n",
    "open_ai_key ="
   ]
  },
  {
   "cell_type": "code",
   "execution_count": 3,
   "id": "f5b14c1e",
   "metadata": {},
   "outputs": [],
   "source": [
    "# Input\n",
    "\n",
    "gdp_img = \"EA_GDP.jpeg\"\n",
    "pdf_loc = [r\"2024.pdf\"]"
   ]
  },
  {
   "cell_type": "code",
   "execution_count": 4,
   "id": "bacff257",
   "metadata": {},
   "outputs": [
    {
     "name": "stdout",
     "output_type": "stream",
     "text": [
      " The graph shows the GDP growth of East Asia from 2018 to 2021. The total GDP growth is shown in the blue line, while the per capita GDP growth is shown in the light blue line. The total GDP growth was highest in 2018, at 5.9%, and lowest in 2020, at 0.4%. The per capita GDP growth was highest in 2018, at 5.2%, and lowest in 2020, at -0.4%.\n",
      "\n",
      "\n",
      "| Year | Total GDP Growth | Per Capita GDP Growth |\n",
      "|---|---|---|\n",
      "| 2018 | 5.9% | 5.2% |\n",
      "| 2019 | 5.2% | 4.6% |\n",
      "| 2020 | 0.4% | -0.4% |\n",
      "| 2021 | 6.7% | 6.2% |\n"
     ]
    }
   ],
   "source": [
    "# Code to get image information\n",
    "\n",
    "def input_image_setup(file_loc):\n",
    "    from pathlib import Path\n",
    "\n",
    "    if not (img := Path(file_loc)).exists():\n",
    "        raise FileNotFoundError(f\"Could not find image: {img}\")\n",
    "\n",
    "    image_parts = [\n",
    "        {\n",
    "            \"mime_type\": \"image/jpeg\",\n",
    "            \"data\": Path(file_loc).read_bytes()\n",
    "            }\n",
    "        ]\n",
    "    return image_parts\n",
    "\n",
    "def get_image_info(image_loc):\n",
    "\n",
    "    genai.configure(api_key=gemini_key)\n",
    "\n",
    "    # Set up the model\n",
    "    generation_config = {\n",
    "        \"temperature\":0.4,\n",
    "        \"top_p\":1,\n",
    "        \"top_k\":32,\n",
    "        \"max_output_tokens\":4096,\n",
    "    }\n",
    "\n",
    "    model = genai.GenerativeModel(model_name=\"gemini-pro-vision\", generation_config=generation_config)\n",
    "\n",
    "    input_prompt = \"\"\" You are an expert in understanding graphs/visualisation.\n",
    "    You will receive images with visualisation and stats you will have provide tabular representation of the data \"\"\"\n",
    "\n",
    "    question_prompt = \"Give a brief context and tabular representation of entire data\"\n",
    "\n",
    "    image_prompt = input_image_setup(image_loc)\n",
    "    prompt_parts = [input_prompt, image_prompt[0], question_prompt]\n",
    "    response = model.generate_content(prompt_parts)\n",
    "    return str(response.text)\n",
    "\n",
    "gemini_img_output = get_image_info(gdp_img)\n",
    "print(gemini_img_output)"
   ]
  },
  {
   "cell_type": "code",
   "execution_count": 5,
   "id": "8c2a73d0",
   "metadata": {},
   "outputs": [
    {
     "name": "stdout",
     "output_type": "stream",
     "text": [
      "{\n",
      "  \"data\": {\n",
      "    \"2018\": {\n",
      "      \"Total GDP Growth\": \"5.9%\",\n",
      "      \"Per Capita GDP Growth\": \"5.2%\"\n",
      "    },\n",
      "    \"2019\": {\n",
      "      \"Total GDP Growth\": \"5.2%\",\n",
      "      \"Per Capita GDP Growth\": \"4.6%\"\n",
      "    },\n",
      "    \"2020\": {\n",
      "      \"Total GDP Growth\": \"0.4%\",\n",
      "      \"Per Capita GDP Growth\": \"-0.4%\"\n",
      "    },\n",
      "    \"2021\": {\n",
      "      \"Total GDP Growth\": \"6.7%\",\n",
      "      \"Per Capita GDP Growth\": \"6.2%\"\n",
      "    },\n",
      "    \"2022\": {\n",
      "      \"Total GDP Growth\": \"5.5%\",\n",
      "      \"Per Capita GDP Growth\": \"5.0%\"\n",
      "    },\n",
      "    \"2023\": {\n",
      "      \"Total GDP Growth\": \"4.8%\",\n",
      "      \"Per Capita GDP Growth\": \"4.2%\"\n",
      "    },\n",
      "    \"2024\": {\n",
      "      \"Total GDP Growth\": \"5.3%\",\n",
      "      \"Per Capita GDP Growth\": \"4.8%\"\n",
      "    }\n",
      "  }\n",
      "}\n"
     ]
    }
   ],
   "source": [
    "# Code to get information using Chat-gpt 3.5 Turbo\n",
    "\n",
    "def gpt_model(gpt_inp):\n",
    "\n",
    "    template = (\"\"\"You are an expert in data updation. You have got context and data to be updated.\n",
    "    Task is to understand the context of the data and update the data till 2024 with your own knowledge\n",
    "    and return JSON output\"\"\")\n",
    "\n",
    "    client = OpenAI(api_key=open_ai_key)\n",
    "\n",
    "    chat_completion = client.chat.completions.create(\n",
    "        messages=[\n",
    "            {\n",
    "                \"role\" : \"user\",\n",
    "                \"content\" : template + gpt_inp,\n",
    "            }\n",
    "        ],\n",
    "        model=\"gpt-3.5-turbo\",\n",
    "    )\n",
    "\n",
    "    return(chat_completion.choices[0].message.content)\n",
    "\n",
    "gpt_output = gpt_model(gemini_img_output)\n",
    "print(gpt_output)"
   ]
  },
  {
   "cell_type": "code",
   "execution_count": 6,
   "id": "02778821",
   "metadata": {},
   "outputs": [
    {
     "name": "stdout",
     "output_type": "stream",
     "text": [
      "```\n",
      "{\n",
      "  \"2022\": {\n",
      "    \"Total GDP Growth\": \"4.9%\",\n",
      "    \"Per Capita GDP Growth\": \"4.3%\"\n",
      "  },\n",
      "  \"2023\": {\n",
      "    \"Total GDP Growth\": \"5.3%\",\n",
      "    \"Per Capita GDP Growth\": \"4.7%\"\n",
      "  },\n",
      "  \"2024\": {\n",
      "    \"Total GDP Growth\": \"5.6%\",\n",
      "    \"Per Capita GDP Growth\": \"5.0%\"\n",
      "  }\n",
      "}\n",
      "```\n"
     ]
    }
   ],
   "source": [
    "# Code to get information using Gemini model\n",
    "\n",
    "def gemini_model(gemini_inp):\n",
    "    \n",
    "    genai.configure(api_key=gemini_key)\n",
    "\n",
    "    model = genai.GenerativeModel(model_name=\"gemini-pro\")\n",
    "\n",
    "    template = (\"\"\"You are an expert in data updation. You have got context and data to be updated.\n",
    "    Task is to understand the context of the data and update the data till 2024 with your own knowledge\n",
    "    and return JSON output\"\"\")\n",
    "\n",
    "    response = model.generate_content(template + gemini_inp)\n",
    "    return str(response.text)\n",
    "\n",
    "gemini_output = gemini_model(gemini_img_output)\n",
    "print(gemini_output)"
   ]
  },
  {
   "cell_type": "code",
   "execution_count": 7,
   "id": "afea2b63",
   "metadata": {},
   "outputs": [
    {
     "name": "stderr",
     "output_type": "stream",
     "text": [
      "C:\\Users\\ADMIN\\anaconda3\\Lib\\site-packages\\langchain_core\\_api\\deprecation.py:117: LangChainDeprecationWarning: The class `langchain_community.embeddings.openai.OpenAIEmbeddings` was deprecated in langchain-community 0.1.0 and will be removed in 0.2.0. An updated version of the class exists in the langchain-openai package and should be used instead. To use it run `pip install -U langchain-openai` and import as `from langchain_openai import OpenAIEmbeddings`.\n",
      "  warn_deprecated(\n"
     ]
    }
   ],
   "source": [
    "# Code to create vector database using FIASS\n",
    "\n",
    "def convert_pdf_to_vector_db(pdf_paths):\n",
    "\n",
    "    text = \"\"\n",
    "    for pdf_path in pdf_paths:\n",
    "        pdf_reader = PdfReader(pdf_path)\n",
    "        for page in pdf_reader.pages:\n",
    "            text += page.extract_text()\n",
    "\n",
    "    text_splitter = CharacterTextSplitter(separator=\"\\n\", chunk_size=1000, chunk_overlap=200, length_function=len)\n",
    "    chunks = text_splitter.split_text(text)\n",
    "\n",
    "    embeddings = OpenAIEmbeddings(openai_api_key=open_ai_key)\n",
    "    return FAISS.from_texts(chunks, embeddings)\n",
    "\n",
    "vector_store = convert_pdf_to_vector_db(pdf_loc)"
   ]
  },
  {
   "cell_type": "code",
   "execution_count": 9,
   "id": "a131b3f2",
   "metadata": {},
   "outputs": [
    {
     "name": "stderr",
     "output_type": "stream",
     "text": [
      "C:\\Users\\ADMIN\\anaconda3\\Lib\\site-packages\\langchain_core\\_api\\deprecation.py:117: LangChainDeprecationWarning: The function `run` was deprecated in LangChain 0.1.0 and will be removed in 0.2.0. Use invoke instead.\n",
      "  warn_deprecated(\n"
     ]
    },
    {
     "name": "stdout",
     "output_type": "stream",
     "text": [
      "\n",
      "| Year | Total GDP Growth | Per Capita GDP Growth |\n",
      "|---|---|---|\n",
      "| 2018 | 5.9% | 5.2% |\n",
      "| 2019 | 5.2% | 4.6% |\n",
      "| 2020 | 0.4% | -0.4% |\n",
      "| 2021 | 6.7% | 6.2% |\n",
      "| 2022 | 4.9% | 4.5% |\n",
      "| 2023 | 4.6% | 4.3% |\n",
      "| 2024 | 4.3% | 4.0% |\n",
      "\n",
      "JSON Output: \n",
      "{\n",
      "  \"region\": \"East Asia\",\n",
      "  \"country\": [\"Japan\", \"Republic of Korea\"],\n",
      "  \"year\": [2018, 2019, 2020, 2021, 2022, 2023, 2024],\n",
      "  \"total_gdp_growth\": [5.9, 5.2, 0.4, 6.7, 4.9, 4.6, 4.3],\n",
      "  \"per_capita_gdp_growth\": [5.2, 4.\n"
     ]
    }
   ],
   "source": [
    "# Code to get information using Chat-gpt 3.5 Turbo + PDF knowledge\n",
    "\n",
    "def gpt_model_with_knowledge(vector_db, user_input):\n",
    "    docs = vector_db.similarity_search(user_input)\n",
    "\n",
    "    llm = OpenAI(openai_api_key=open_ai_key)\n",
    "    chain = load_qa_chain(llm, chain_type=\"stuff\")\n",
    "\n",
    "    template = (\"\"\"You are an expert in data updation. You have got context and data to be updated.\n",
    "    Task is to understand the context of the data and update the data till 2024 from the document.\n",
    "    and return JSON output\"\"\")\n",
    "\n",
    "    response_gpt = chain.run(input_documents=docs, question=template+user_input)\n",
    "    return response_gpt\n",
    "\n",
    "gpt_output_with_knowledge = gpt_model_with_knowledge(vector_store, gemini_img_output)\n",
    "print(gpt_output_with_knowledge)"
   ]
  },
  {
   "cell_type": "code",
   "execution_count": 11,
   "id": "74526d8e",
   "metadata": {},
   "outputs": [
    {
     "name": "stdout",
     "output_type": "stream",
     "text": [
      "```JSON\n",
      "{\n",
      " \"East Asia GDP Growth 2018-2024\": {\n",
      "  \"2018\":{\n",
      "   \"Total GDP Growth\":\"5.9%\",\n",
      "   \"Per Capita GDP Growth\":\"5.2%\"\n",
      "  },\n",
      "  \"2019\":{\n",
      "   \"Total GDP Growth\":\"5.2%\",\n",
      "   \"Per Capita GDP Growth\":\"4.6%\"\n",
      "  },\n",
      "  \"2020\":{\n",
      "   \"Total GDP Growth\":\"0.4%\",\n",
      "   \"Per Capita GDP Growth\":\"-0.4%\"\n",
      "  },\n",
      "  \"2021\":{\n",
      "   \"Total GDP Growth\":\"6.7%\",\n",
      "   \"Per Capita GDP Growth\":\"6.2%\"\n",
      "  },\n",
      "  \"2022\":{\n",
      "   \"Total GDP Growth\":\"3.1%\",\n",
      "   \"Per Capita GDP Growth\":\"2.8%\"\n",
      "  },\n",
      "  \"2023\":{\n",
      "   \"Total GDP Growth\":\"4.6%\",\n",
      "   \"Per Capita GDP Growth\":\"4.3%\"\n",
      "  },\n",
      "  \"2024\":{\n",
      "   \"Total GDP Growth\":\"4.6%\",\n",
      "   \"Per Capita GDP Growth\":\"4.3%\"\n",
      "  }\n",
      " }\n",
      "}\n",
      "```\n"
     ]
    }
   ],
   "source": [
    "# Code to get information using Gemini model + PDF knowledge\n",
    "\n",
    "def gemini_model_with_knowledge(vector_db, user_input):\n",
    "\n",
    "    docs = vector_db.similarity_search(user_input)\n",
    "\n",
    "    genai.configure(api_key=gemini_key)\n",
    "\n",
    "    model = genai.GenerativeModel(model_name=\"gemini-pro\")\n",
    "\n",
    "    template = (\"\"\"You are an expert in data updation. You have got context and data to be updated.\n",
    "        Task is to understand the context of the data and update the data till 2024 with your own knowledge\n",
    "        and return JSON output\"\"\")\n",
    "\n",
    "    response = model.generate_content(str(docs) + template + user_input)\n",
    "\n",
    "    return str(response.text)\n",
    "\n",
    "gpt_output_with_knowledge = gemini_model_with_knowledge(vector_store, gemini_img_output)\n",
    "print(gpt_output_with_knowledge)"
   ]
  },
  {
   "cell_type": "code",
   "execution_count": null,
   "id": "816585f0",
   "metadata": {},
   "outputs": [],
   "source": []
  }
 ],
 "metadata": {
  "kernelspec": {
   "display_name": "Python 3 (ipykernel)",
   "language": "python",
   "name": "python3"
  },
  "language_info": {
   "codemirror_mode": {
    "name": "ipython",
    "version": 3
   },
   "file_extension": ".py",
   "mimetype": "text/x-python",
   "name": "python",
   "nbconvert_exporter": "python",
   "pygments_lexer": "ipython3",
   "version": "3.11.5"
  }
 },
 "nbformat": 4,
 "nbformat_minor": 5
}
